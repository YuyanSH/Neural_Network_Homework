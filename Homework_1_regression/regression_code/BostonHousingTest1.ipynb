{
 "cells": [
  {
   "cell_type": "markdown",
   "id": "583c7e12",
   "metadata": {},
   "source": [
    "- 这个模型进行了相关性特征选取，但损失函数难以训练，预测结果并不准确。"
   ]
  },
  {
   "cell_type": "code",
   "execution_count": 1,
   "id": "f7fec449",
   "metadata": {},
   "outputs": [],
   "source": [
    "%matplotlib inline\n",
    "import torch\n",
    "from torch.utils import data\n",
    "from torch import nn\n",
    "import numpy as np\n",
    "import pandas as pd\n",
    "import matplotlib.pyplot as plt\n",
    "from sklearn.preprocessing import StandardScaler\n",
    "from sklearn.model_selection import train_test_split"
   ]
  },
  {
   "cell_type": "markdown",
   "id": "57ed5a60",
   "metadata": {},
   "source": [
    "# 0. 判断GPU是否可用"
   ]
  },
  {
   "cell_type": "code",
   "execution_count": 2,
   "id": "abe91dd2",
   "metadata": {},
   "outputs": [],
   "source": [
    "device = torch.device(\"cuda:0\" if torch.cuda.is_available() else \"cpu\")"
   ]
  },
  {
   "cell_type": "markdown",
   "id": "20946c0e",
   "metadata": {},
   "source": [
    "# 1. 数据预处理"
   ]
  },
  {
   "cell_type": "code",
   "execution_count": 3,
   "id": "073e81c2",
   "metadata": {},
   "outputs": [
    {
     "name": "stdout",
     "output_type": "stream",
     "text": [
      "数据维度: (506, 14)\n",
      "      CRIM    ZN  INDUS  CHAS    NOX     RM   AGE     DIS  RAD  TAX  PTRATIO  \\\n",
      "0  0.00632  18.0   2.31     0  0.538  6.575  65.2  4.0900    1  296     15.3   \n",
      "1  0.02731   0.0   7.07     0  0.469  6.421  78.9  4.9671    2  242     17.8   \n",
      "2  0.02729   0.0   7.07     0  0.469  7.185  61.1  4.9671    2  242     17.8   \n",
      "3  0.03237   0.0   2.18     0  0.458  6.998  45.8  6.0622    3  222     18.7   \n",
      "4  0.06905   0.0   2.18     0  0.458  7.147  54.2  6.0622    3  222     18.7   \n",
      "\n",
      "        B  LSTAT  MEDV  \n",
      "0  396.90   4.98  24.0  \n",
      "1  396.90   9.14  21.6  \n",
      "2  392.83   4.03  34.7  \n",
      "3  394.63   2.94  33.4  \n",
      "4  396.90   5.33  36.2  \n"
     ]
    }
   ],
   "source": [
    "data_path = './BostonHousingData.xlsx'\n",
    "df = pd.read_excel(data_path)\n",
    "\n",
    "print(\"数据维度:\", df.shape)\n",
    "print(df.head())"
   ]
  },
  {
   "cell_type": "code",
   "execution_count": null,
   "id": "e586dc5e",
   "metadata": {},
   "outputs": [
    {
     "name": "stdout",
     "output_type": "stream",
     "text": [
      "\n",
      "各特征与 MEDV 的相关系数:\n",
      "MEDV       1.000000\n",
      "RM         0.695360\n",
      "ZN         0.360445\n",
      "B          0.333461\n",
      "DIS        0.249929\n",
      "CHAS       0.175260\n",
      "AGE       -0.376955\n",
      "RAD       -0.381626\n",
      "CRIM      -0.388305\n",
      "NOX       -0.427321\n",
      "TAX       -0.468536\n",
      "INDUS     -0.483725\n",
      "PTRATIO   -0.507787\n",
      "LSTAT     -0.737663\n",
      "Name: MEDV, dtype: float64\n",
      "\n",
      "选取的主要特征: ['CRIM', 'ZN', 'INDUS', 'NOX', 'RM', 'AGE', 'RAD', 'TAX', 'PTRATIO', 'B', 'LSTAT']\n"
     ]
    }
   ],
   "source": [
    "# 计算各特征与 MEDV 的相关性\n",
    "corr_matrix = df.corr()\n",
    "print(\"\\n各特征与 MEDV 的相关系数:\")\n",
    "print(corr_matrix['MEDV'].sort_values(ascending=False))\n",
    "\n",
    "corr_threshold = 0.3\n",
    "selected_features = corr_matrix.index[(corr_matrix['MEDV'].abs() > corr_threshold) & (corr_matrix.index != 'MEDV')].tolist()\n",
    "print(\"\\n选取的主要特征:\", selected_features)\n",
    "\n"
   ]
  },
  {
   "cell_type": "code",
   "execution_count": 5,
   "id": "16fcbba5",
   "metadata": {},
   "outputs": [
    {
     "name": "stdout",
     "output_type": "stream",
     "text": [
      "(506, 13)\n",
      "(506,)\n"
     ]
    }
   ],
   "source": [
    "x_data = df.iloc[:, :13].values\n",
    "y_data = df.MEDV.values\n",
    "print(x_data.shape)\n",
    "print(y_data.shape)"
   ]
  },
  {
   "cell_type": "code",
   "execution_count": 6,
   "id": "22bf88cb",
   "metadata": {},
   "outputs": [
    {
     "data": {
      "text/plain": [
       "array([[-0.41978194,  0.28482986, -1.2879095 , ..., -1.45900038,\n",
       "         0.44105193, -1.0755623 ],\n",
       "       [-0.41733926, -0.48772236, -0.59338101, ..., -0.30309415,\n",
       "         0.44105193, -0.49243937],\n",
       "       [-0.41734159, -0.48772236, -0.59338101, ..., -0.30309415,\n",
       "         0.39642699, -1.2087274 ],\n",
       "       ...,\n",
       "       [-0.41344658, -0.48772236,  0.11573841, ...,  1.17646583,\n",
       "         0.44105193, -0.98304761],\n",
       "       [-0.40776407, -0.48772236,  0.11573841, ...,  1.17646583,\n",
       "         0.4032249 , -0.86530163],\n",
       "       [-0.41500016, -0.48772236,  0.11573841, ...,  1.17646583,\n",
       "         0.44105193, -0.66905833]])"
      ]
     },
     "execution_count": 6,
     "metadata": {},
     "output_type": "execute_result"
    }
   ],
   "source": [
    "# 数据标准化\n",
    "scaler = StandardScaler()\n",
    "scaler.fit(x_data)\n",
    "x_data = scaler.transform(x_data)\n",
    "x_data\n"
   ]
  },
  {
   "cell_type": "code",
   "execution_count": null,
   "id": "3da71e21",
   "metadata": {},
   "outputs": [],
   "source": [
    "# 数据集划分\n",
    "train_df = df.iloc[:450].copy()\n",
    "test_df  = df.iloc[450:].copy()\n",
    "\n",
    "X_train = train_df[selected_features].values\n",
    "y_train = train_df['MEDV'].values.reshape(-1, 1)\n",
    "X_test  = test_df[selected_features].values\n",
    "y_test  = test_df['MEDV'].values.reshape(-1, 1)"
   ]
  },
  {
   "cell_type": "code",
   "execution_count": 8,
   "id": "694c7666",
   "metadata": {},
   "outputs": [
    {
     "data": {
      "text/plain": [
       "(450, 11)"
      ]
     },
     "execution_count": 8,
     "metadata": {},
     "output_type": "execute_result"
    }
   ],
   "source": [
    "X_train.shape"
   ]
  },
  {
   "cell_type": "code",
   "execution_count": 9,
   "id": "e8f1d5a8",
   "metadata": {},
   "outputs": [],
   "source": [
    "# 转换为张量\n",
    "X_train_tensor = torch.from_numpy(X_train.astype(np.float32))\n",
    "y_train_tensor = torch.from_numpy(y_train.astype(np.float32))\n",
    "X_test_tensor  = torch.from_numpy(X_test.astype(np.float32))\n",
    "y_test_tensor  = torch.from_numpy(y_test.astype(np.float32))"
   ]
  },
  {
   "cell_type": "code",
   "execution_count": 10,
   "id": "1cdc5d0f",
   "metadata": {},
   "outputs": [
    {
     "data": {
      "text/plain": [
       "torch.Size([450, 1])"
      ]
     },
     "execution_count": 10,
     "metadata": {},
     "output_type": "execute_result"
    }
   ],
   "source": [
    "y_train_tensor.shape"
   ]
  },
  {
   "cell_type": "code",
   "execution_count": 11,
   "id": "be1f4403",
   "metadata": {},
   "outputs": [],
   "source": [
    "# 构造数据集与 DataLoader\n",
    "train_dataset = data.TensorDataset(X_train_tensor, y_train_tensor)\n",
    "# test_dataset = data.TensorDataset(X_test_tensor, y_test_tensor)\n",
    "\n",
    "batch_size = 32\n",
    "train_loader = data.DataLoader(train_dataset, batch_size=batch_size, shuffle=True)\n",
    "# test_loader = data.DataLoader(test_dataset, batch_size=batch_size, shuffle=False)"
   ]
  },
  {
   "cell_type": "markdown",
   "id": "22ef5499",
   "metadata": {},
   "source": [
    "# 2. 网络模型搭建"
   ]
  },
  {
   "cell_type": "code",
   "execution_count": 12,
   "id": "1897a596",
   "metadata": {},
   "outputs": [],
   "source": [
    "# 选取相关特征\n",
    "class Model(nn.Module):\n",
    "    def __init__(self, input_dim):\n",
    "        super().__init__()\n",
    "        self.fc = nn.Sequential(\n",
    "            nn.Linear(in_features=input_dim, out_features=64),\n",
    "            nn.ReLU(),\n",
    "            nn.Linear(in_features=64, out_features=32),\n",
    "            nn.ReLU(),\n",
    "            nn.Linear(in_features=32, out_features=16),\n",
    "            nn.ReLU(),\n",
    "            nn.Linear(in_features=16, out_features=1)\n",
    "        )\n",
    "    \n",
    "    def forward(self, X):\n",
    "        return self.fc(X)"
   ]
  },
  {
   "cell_type": "code",
   "execution_count": 13,
   "id": "dd6f0191",
   "metadata": {},
   "outputs": [
    {
     "data": {
      "text/plain": [
       "Model(\n",
       "  (fc): Sequential(\n",
       "    (0): Linear(in_features=11, out_features=64, bias=True)\n",
       "    (1): ReLU()\n",
       "    (2): Linear(in_features=64, out_features=32, bias=True)\n",
       "    (3): ReLU()\n",
       "    (4): Linear(in_features=32, out_features=16, bias=True)\n",
       "    (5): ReLU()\n",
       "    (6): Linear(in_features=16, out_features=1, bias=True)\n",
       "  )\n",
       ")"
      ]
     },
     "execution_count": 13,
     "metadata": {},
     "output_type": "execute_result"
    }
   ],
   "source": [
    "input_dim = len(selected_features)\n",
    "model = Model(input_dim).to(device) \n",
    "model"
   ]
  },
  {
   "cell_type": "markdown",
   "id": "f0d8e8a7",
   "metadata": {},
   "source": [
    "# 3. 训练"
   ]
  },
  {
   "cell_type": "code",
   "execution_count": null,
   "id": "69dc0eaf",
   "metadata": {},
   "outputs": [],
   "source": [
    "def train():\n",
    "    loss_fun = nn.MSELoss()\n",
    "    optimizer = torch.optim.SGD(model.parameters(), lr=2e-9)\n",
    "    num_epochs = 60\n",
    "    model.train()\n",
    "    epoch_losses = []  \n",
    "\n",
    "    for epoch in range(num_epochs): \n",
    "        for step, (X, y) in enumerate(train_dataset):\n",
    "            X = X.to(device)\n",
    "            y = y.to(device)\n",
    "            out = model(X)\n",
    "            loss = loss_fun(out.to(device), y)\n",
    "            loss.backward()\n",
    "            optimizer.step()\n",
    "            optimizer.zero_grad()\n",
    "\n",
    "        epoch_losses.append(loss.item())\n",
    "        if epoch % 20 == 0:\n",
    "            print(f'epoch: {epoch}, loss: {loss.item()}')\n",
    "\n",
    "    torch.save(model, \"./BostonHousingTest1.model\")\n",
    "    return epoch_losses"
   ]
  },
  {
   "cell_type": "code",
   "execution_count": 15,
   "id": "65034e3c",
   "metadata": {},
   "outputs": [
    {
     "name": "stdout",
     "output_type": "stream",
     "text": [
      "epoch: 0, loss: 128.03570556640625\n",
      "epoch: 20, loss: 38.60099792480469\n",
      "epoch: 40, loss: 0.9517214298248291\n"
     ]
    }
   ],
   "source": [
    "# train()\n",
    "loss_history = train()"
   ]
  },
  {
   "cell_type": "code",
   "execution_count": null,
   "id": "4c37d5f9",
   "metadata": {},
   "outputs": [
    {
     "data": {
      "image/png": "[encoded data removed]",
      "text/plain": [
       "<Figure size 500x300 with 1 Axes>"
      ]
     },
     "metadata": {},
     "output_type": "display_data"
    }
   ],
   "source": [
    "# 损失函数可视化\n",
    "plt.figure(figsize=(5, 3))\n",
    "plt.plot(range(1, len(loss_history) + 1), loss_history, linestyle='-')\n",
    "plt.xlabel(\"Epoch\")\n",
    "plt.ylabel(\"MSE Loss\")\n",
    "plt.title(\"Training Loss over Epochs\")\n",
    "plt.grid(True)\n",
    "plt.show()"
   ]
  },
  {
   "cell_type": "markdown",
   "id": "16964b19",
   "metadata": {},
   "source": [
    "# 4. 测试"
   ]
  },
  {
   "cell_type": "code",
   "execution_count": 17,
   "id": "eade2436",
   "metadata": {},
   "outputs": [],
   "source": [
    "@torch.no_grad()\n",
    "def test(X_test_tensor):\n",
    "    model = torch.load(\"./BostonHousingTest1.model\", weights_only=False).to(device)\n",
    "    model.eval()\n",
    "    X_test_tensor = X_test_tensor.to(device)\n",
    "    out = model(X_test_tensor)\n",
    "    return out"
   ]
  },
  {
   "cell_type": "code",
   "execution_count": 18,
   "id": "eb258a97",
   "metadata": {},
   "outputs": [],
   "source": [
    "predictions = test(X_test_tensor)"
   ]
  },
  {
   "cell_type": "code",
   "execution_count": 19,
   "id": "0730d980",
   "metadata": {},
   "outputs": [
    {
     "data": {
      "text/plain": [
       "(tensor([16.5750], device='cuda:0'), tensor([16.4000]))"
      ]
     },
     "execution_count": 19,
     "metadata": {},
     "output_type": "execute_result"
    }
   ],
   "source": [
    "predictions[10], y_test_tensor[10]"
   ]
  },
  {
   "cell_type": "code",
   "execution_count": null,
   "id": "ff20acfb",
   "metadata": {},
   "outputs": [
    {
     "data": {
      "image/png": "[encoded data removed]",
      "text/plain": [
       "<Figure size 500x300 with 1 Axes>"
      ]
     },
     "metadata": {},
     "output_type": "display_data"
    }
   ],
   "source": [
    "# 预测结果可视化\n",
    "predictions_np = predictions.cpu().numpy().flatten()\n",
    "y_test_np = y_test_tensor.numpy().flatten()\n",
    "\n",
    "import matplotlib.pyplot as plt\n",
    "\n",
    "plt.figure(figsize=(5, 3))\n",
    "plt.plot(y_test_np, label='True Price')\n",
    "plt.plot(predictions_np, label='Predicted Price')\n",
    "plt.title(\"True vs Predicted House Prices\")\n",
    "plt.xlabel(\"Sample Index\")\n",
    "plt.ylabel(\"House Price\")\n",
    "plt.legend()\n",
    "plt.grid(True)\n",
    "plt.tight_layout()\n",
    "plt.show()\n"
   ]
  },
  {
   "cell_type": "code",
   "execution_count": 21,
   "id": "98c5c0eb",
   "metadata": {},
   "outputs": [
    {
     "name": "stdout",
     "output_type": "stream",
     "text": [
      "Mean Squared Error (MSE): 37.7411\n"
     ]
    }
   ],
   "source": [
    "from sklearn.metrics import mean_squared_error\n",
    "\n",
    "# 预测值和真实值（注意 flatten 以确保形状一致）\n",
    "predictions_np = predictions.cpu().numpy().flatten()\n",
    "y_test_np = y_test_tensor.numpy().flatten()\n",
    "\n",
    "# 计算均方误差\n",
    "mse = mean_squared_error(y_test_np, predictions_np)\n",
    "print(f\"Mean Squared Error (MSE): {mse:.4f}\")\n"
   ]
  },
  {
   "cell_type": "markdown",
   "id": "8b805da0",
   "metadata": {},
   "source": [
    "- 在选取了相关性较高的特征之后，模型损失函数比较难以训练，不知为何。"
   ]
  }
 ],
 "metadata": {
  "kernelspec": {
   "display_name": "neural-network",
   "language": "python",
   "name": "python3"
  },
  "language_info": {
   "codemirror_mode": {
    "name": "ipython",
    "version": 3
   },
   "file_extension": ".py",
   "mimetype": "text/x-python",
   "name": "python",
   "nbconvert_exporter": "python",
   "pygments_lexer": "ipython3",
   "version": "3.9.21"
  }
 },
 "nbformat": 4,
 "nbformat_minor": 5
}
